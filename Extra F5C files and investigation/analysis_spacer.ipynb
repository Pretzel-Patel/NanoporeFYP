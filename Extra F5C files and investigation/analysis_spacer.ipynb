{
 "cells": [
  {
   "cell_type": "code",
   "execution_count": 2,
   "metadata": {},
   "outputs": [],
   "source": [
    "# imports\n",
    "import pandas as pd\n",
    "import matplotlib.pyplot as plt\n",
    "import numpy as np\n",
    "import csv"
   ]
  },
  {
   "cell_type": "code",
   "execution_count": 3,
   "metadata": {},
   "outputs": [],
   "source": [
    "scaled_events = []\n",
    "for direction in ['reverse', 'template']:\n",
    "    for i in range(1,9):\n",
    "        sequence = f'{direction}_{i}'\n",
    "        scaled_events.append((sequence, pd.read_csv(f'./5_aligned_events/events_{sequence}_scaled_id_collapse.tsv', delimiter='\\t')))"
   ]
  },
  {
   "cell_type": "code",
   "execution_count": 4,
   "metadata": {},
   "outputs": [],
   "source": [
    "event_level_means = np.full((1000, 174, 16), np.nan)\n",
    "# event_means is a 3D matrix, where the (i,j,k) entry contains the event_level mean of the i^th read, j^th kmer, k^th reference sequence\n",
    "for j in range(16):\n",
    "    df = scaled_events[j][1]\n",
    "    df = df[df['event_stdv'] < 5]\n",
    "    grouped = df.groupby('read_name')\n",
    "    read_num = 0\n",
    "    for read_id, group_data in grouped:\n",
    "        if read_num >= 1000:\n",
    "            break\n",
    "        event_mean_vec = group_data['event_level_mean'].values\n",
    "        positions_vec = group_data['position'].values\n",
    "        event_level_means[read_num, positions_vec, j] = event_mean_vec\n",
    "        read_num += 1"
   ]
  },
  {
   "cell_type": "code",
   "execution_count": 10,
   "metadata": {},
   "outputs": [
    {
     "name": "stdout",
     "output_type": "stream",
     "text": [
      "Spacer at position 34: valid_reads = 209 mean_current = 113.0038, std = 3.2988, sample_mean_std = 0.2282\n",
      "Spacer at position 55: valid_reads = 207 mean_current = 120.9339, std = 2.8447, sample_mean_std = 0.1977\n",
      "Spacer at position 76: valid_reads = 214 mean_current = 119.5914, std = 3.3442, sample_mean_std = 0.2286\n",
      "Spacer at position 97: valid_reads = 213 mean_current = 121.1734, std = 2.5469, sample_mean_std = 0.1745\n",
      "Spacer at position 118: valid_reads = 215 mean_current = 120.8987, std = 2.7284, sample_mean_std = 0.1861\n"
     ]
    }
   ],
   "source": [
    "# We look at each spacer, and find the mean and std of current level for that particular spacer. \n",
    "# This shows that different spacers have different mean current levels which cannot be explained by randomness alone\n",
    "# All of this is done in reverse sequence 1\n",
    "spacer_RC = 'GCATCATTTCC'\n",
    "spacer_9mer_mid = 'GCATCATTT'\n",
    "spacer_pos_mid = np.array([34, 55, 76, 97, 118])\n",
    "for pos in spacer_pos_mid:\n",
    "    pos_mean = np.nanmean(event_level_means[:,pos,0])\n",
    "    pos_std = np.nanstd(event_level_means[:,pos,0])\n",
    "    pos_valid_count = np.count_nonzero(~np.isnan(event_level_means[:,pos,0]))\n",
    "    print(f'Spacer at position {pos}: valid_reads = {pos_valid_count} mean_current = {pos_mean:.4f}, std = {pos_std:.4f}, sample_mean_std = {pos_std/np.sqrt(pos_valid_count):.4f}')"
   ]
  },
  {
   "cell_type": "markdown",
   "metadata": {},
   "source": [
    "- In the above code, we have looked for the spacer 9mer CATCATTTC in the reverse 1 sequence. It occurs 5 times, in 5 different 'environments' within the reverse_1 sequence. An environment of a 9mer is the bases adjacent/near to that 9mer. The hypothesis is that the environment of a 9mer has an impact on the observed current level, so that a 9mer current table cannot fully describe the nanopore process. \n",
    "- We have found that the first occurrence of this has significantly different current levels compared to the other occurences. \n",
    "- The remaining four occurences have very similar current levels, but are still distinct, and in general their confidence intervals do not overlap."
   ]
  },
  {
   "cell_type": "code",
   "execution_count": 6,
   "metadata": {},
   "outputs": [
    {
     "name": "stdout",
     "output_type": "stream",
     "text": [
      "Spacer at position 76 in reverse_1: valid_reads = 768 mean_current = 120.8094, std = 2.9020, sample_mean_std = 0.1047\n",
      "Spacer at position 76 in reverse_2: valid_reads = 123 mean_current = 120.2189, std = 2.3780, sample_mean_std = 0.2144\n",
      "Spacer at position 76 in reverse_3: valid_reads = 25 mean_current = 120.2684, std = 3.5593, sample_mean_std = 0.7119\n",
      "Spacer at position 76 in reverse_4: valid_reads = 214 mean_current = 119.5914, std = 3.3442, sample_mean_std = 0.2286\n",
      "Spacer at position 76 in reverse_5: valid_reads = 78 mean_current = 121.4756, std = 2.3056, sample_mean_std = 0.2611\n",
      "Spacer at position 76 in reverse_6: valid_reads = 790 mean_current = 120.2349, std = 2.3312, sample_mean_std = 0.0829\n",
      "Spacer at position 76 in reverse_7: valid_reads = 808 mean_current = 121.2752, std = 2.3417, sample_mean_std = 0.0824\n",
      "Spacer at position 76 in reverse_8: valid_reads = 748 mean_current = 119.6906, std = 2.4000, sample_mean_std = 0.0878\n"
     ]
    }
   ],
   "source": [
    "# We look at a particular spacer, and find the means and std across each sequence\n",
    "spacer_RC = 'GCATCATTTCC'\n",
    "spacer_9mer_mid = 'GCATCATTT'\n",
    "pos = 76\n",
    "for j in range(8):\n",
    "    pos_mean = np.nanmean(event_level_means[:,pos,j])\n",
    "    pos_std = np.nanstd(event_level_means[:,pos,j])\n",
    "    pos_valid_count = np.count_nonzero(~np.isnan(event_level_means[:,pos,j]))\n",
    "    print(f'Spacer at position {pos} in reverse_{j+1}: valid_reads = {pos_valid_count} mean_current = {pos_mean:.4f}, std = {pos_std:.4f}, sample_mean_std = {pos_std/np.sqrt(pos_valid_count):.4f}')"
   ]
  },
  {
   "cell_type": "markdown",
   "metadata": {},
   "source": [
    "- In the above code, we again look at the same 9mer spacer in different environments - but this time the different environments are across different sequences entirely. \n",
    "- We repeatedly look at the 3rd spacer. There is some impact from the environment, but this is not major.\n",
    "- reverse_7 and reverse_8 current levels are separated by 0.22pA, which is about 4 standard deviations in the sample mean sense."
   ]
  },
  {
   "cell_type": "code",
   "execution_count": 7,
   "metadata": {},
   "outputs": [
    {
     "name": "stdout",
     "output_type": "stream",
     "text": [
      "Spacer at position 76: valid_reads = 3554 mean_current = 120.5158, std = 2.6354, sample_mean_std = 0.0442\n"
     ]
    }
   ],
   "source": [
    "# We look at a particular spacer, and find the means and std across all sequences\n",
    "spacer_RC = 'GCATCATTTCC'\n",
    "spacer_9mer_mid = 'GCATCATTT'\n",
    "pos = 76\n",
    "\n",
    "pos_mean = np.nanmean(event_level_means[:,pos,[0,5,6,7]])\n",
    "pos_std = np.nanstd(event_level_means[:,pos,0:8])\n",
    "pos_valid_count = np.count_nonzero(~np.isnan(event_level_means[:,pos,0:8]))\n",
    "print(f'Spacer at position {pos}: valid_reads = {pos_valid_count} mean_current = {pos_mean:.4f}, std = {pos_std:.4f}, sample_mean_std = {pos_std/np.sqrt(pos_valid_count):.4f}')"
   ]
  },
  {
   "cell_type": "markdown",
   "metadata": {},
   "source": [
    "- The above code combines all the current levels (across different sequences) corresponding to the spacer at position 77 (3rd spacer).\n",
    "- The hypothesis is that because different environments have been combined in this case, the standard deviation should be higher than for the separated environments.\n",
    "- This is a mathematical fact. If $X$ is a mixture distribution of $X_1, X_2, \\ldots, X_k$, with probabilities $p_1, p_2, \\ldots, p_k$, then \n",
    "$$\\mathbb{E}[X]=\\sum_{i=1}^k p_i \\mathbb{E}[X_i]$$\n",
    "$$Var[X] = \\sum_{i=1}^k p_i Var[X_i] + \\sum_{i=1}^k p_i \\mathbb{E}[X_i]^2-\\left(\\sum_{i=1}^k p_i \\mathbb{E}[X_i]\\right)^2\\ge \\sum_{i=1}^k p_i Var[X_i]"
   ]
  },
  {
   "cell_type": "code",
   "execution_count": 8,
   "metadata": {},
   "outputs": [
    {
     "ename": "NameError",
     "evalue": "name 'r1_pos2' is not defined",
     "output_type": "error",
     "traceback": [
      "\u001b[1;31m---------------------------------------------------------------------------\u001b[0m",
      "\u001b[1;31mNameError\u001b[0m                                 Traceback (most recent call last)",
      "Cell \u001b[1;32mIn[8], line 1\u001b[0m\n\u001b[1;32m----> 1\u001b[0m plt\u001b[38;5;241m.\u001b[39mscatter(\u001b[43mr1_pos2\u001b[49m[\u001b[38;5;124m'\u001b[39m\u001b[38;5;124mevent_level_mean\u001b[39m\u001b[38;5;124m'\u001b[39m], r1_pos2[\u001b[38;5;124m'\u001b[39m\u001b[38;5;124mevent_stdv\u001b[39m\u001b[38;5;124m'\u001b[39m], marker\u001b[38;5;241m=\u001b[39m\u001b[38;5;124m'\u001b[39m\u001b[38;5;124m.\u001b[39m\u001b[38;5;124m'\u001b[39m, alpha\u001b[38;5;241m=\u001b[39m\u001b[38;5;241m0.3\u001b[39m);\n\u001b[0;32m      2\u001b[0m plt\u001b[38;5;241m.\u001b[39mtitle(\u001b[38;5;124m'\u001b[39m\u001b[38;5;124mevent_stdv vs event_level_mean for TGTCGGATT\u001b[39m\u001b[38;5;124m'\u001b[39m)\n\u001b[0;32m      3\u001b[0m plt\u001b[38;5;241m.\u001b[39mxlabel(\u001b[38;5;124m'\u001b[39m\u001b[38;5;124mevent_level_mean (pA)\u001b[39m\u001b[38;5;124m'\u001b[39m)\n",
      "\u001b[1;31mNameError\u001b[0m: name 'r1_pos2' is not defined"
     ]
    }
   ],
   "source": [
    "plt.scatter(r1_pos2['event_level_mean'], r1_pos2['event_stdv'], marker='.', alpha=0.3);\n",
    "plt.title('event_stdv vs event_level_mean for TGTCGGATT')\n",
    "plt.xlabel('event_level_mean (pA)')\n",
    "plt.ylabel('event_stdv (pA)');"
   ]
  },
  {
   "cell_type": "markdown",
   "metadata": {},
   "source": [
    "This plot shows a surprising relationship. We are looking at the 9mer TGTCGGATT across all reads. In reads where the event_level_mean is higher, we see that event_stdv is also higher. These uncertain reads were previously skewing our mean, but the second weighted method adjusts for this. "
   ]
  },
  {
   "cell_type": "code",
   "execution_count": null,
   "metadata": {},
   "outputs": [
    {
     "data": {
      "text/plain": [
       "array([3, 3, 3, 4])"
      ]
     },
     "execution_count": 37,
     "metadata": {},
     "output_type": "execute_result"
    }
   ],
   "source": [
    "# Temp"
   ]
  }
 ],
 "metadata": {
  "kernelspec": {
   "display_name": "Python 3",
   "language": "python",
   "name": "python3"
  },
  "language_info": {
   "codemirror_mode": {
    "name": "ipython",
    "version": 3
   },
   "file_extension": ".py",
   "mimetype": "text/x-python",
   "name": "python",
   "nbconvert_exporter": "python",
   "pygments_lexer": "ipython3",
   "version": "3.10.0"
  }
 },
 "nbformat": 4,
 "nbformat_minor": 2
}
